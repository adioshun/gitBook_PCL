{
 "cells": [
  {
   "cell_type": "code",
   "execution_count": 6,
   "metadata": {},
   "outputs": [],
   "source": [
    "import numpy as np\n",
    "from open3d import *"
   ]
  },
  {
   "cell_type": "code",
   "execution_count": 2,
   "metadata": {},
   "outputs": [
    {
     "name": "stdout",
     "output_type": "stream",
     "text": [
      "total 5.4M\r\n",
      "-rw-r--r-- 1 root root   72 May 31 03:40 opem3d.ipynb\r\n",
      "-rw-r--r-- 1 root root 5.4M May 31 03:41 sample_table.pcd\r\n"
     ]
    }
   ],
   "source": [
    "!ls -lh"
   ]
  },
  {
   "cell_type": "code",
   "execution_count": 3,
   "metadata": {},
   "outputs": [
    {
     "name": "stdout",
     "output_type": "stream",
     "text": [
      "Testing IO for point cloud ...\n",
      "PointCloud with 460400 points.\n"
     ]
    },
    {
     "data": {
      "text/plain": [
       "True"
      ]
     },
     "execution_count": 3,
     "metadata": {},
     "output_type": "execute_result"
    }
   ],
   "source": [
    "print(\"Testing IO for point cloud ...\")\n",
    "pcd = read_point_cloud(\"sample_table.pcd\")\n",
    "print(pcd)\n",
    "write_point_cloud(\"copy_of_sample_table.pcd\", pcd)"
   ]
  },
  {
   "cell_type": "code",
   "execution_count": 4,
   "metadata": {},
   "outputs": [
    {
     "name": "stdout",
     "output_type": "stream",
     "text": [
      "total 11M\r\n",
      "-rw-r--r-- 1 root root 5.3M May 31 03:42 copy_of_sample_table.pcd\r\n",
      "-rw-r--r-- 1 root root 1.4K May 31 03:42 opem3d.ipynb\r\n",
      "-rw-r--r-- 1 root root 5.4M May 31 03:41 sample_table.pcd\r\n"
     ]
    }
   ],
   "source": [
    "!ls -lh"
   ]
  },
  {
   "cell_type": "code",
   "execution_count": 7,
   "metadata": {},
   "outputs": [
    {
     "name": "stdout",
     "output_type": "stream",
     "text": [
      "Load a ply point cloud, print it, and render it\n",
      "PointCloud with 460400 points.\n",
      "[[-0.93387002 -0.6825     -1.18649995]\n",
      " [-0.93172997 -0.68322998 -1.18780005]\n",
      " [-0.92185003 -0.68054003 -1.18309999]\n",
      " ...\n",
      " [-0.12585001  0.38914001 -1.35699999]\n",
      " [-0.14683001  0.36662    -1.27849996]\n",
      " [-0.12884     0.37395999 -1.30410004]]\n"
     ]
    }
   ],
   "source": [
    "print(\"Load a ply point cloud, print it, and render it\")\n",
    "pcd = read_point_cloud(\"sample_table.pcd\")\n",
    "print(pcd)\n",
    "print(np.asarray(pcd.points))\n"
   ]
  },
  {
   "cell_type": "code",
   "execution_count": 8,
   "metadata": {},
   "outputs": [],
   "source": [
    "#draw_geometries([pcd])"
   ]
  },
  {
   "cell_type": "code",
   "execution_count": null,
   "metadata": {},
   "outputs": [],
   "source": []
  }
 ],
 "metadata": {
  "kernelspec": {
   "display_name": "Python 3",
   "language": "python",
   "name": "python3"
  },
  "language_info": {
   "codemirror_mode": {
    "name": "ipython",
    "version": 3
   },
   "file_extension": ".py",
   "mimetype": "text/x-python",
   "name": "python",
   "nbconvert_exporter": "python",
   "pygments_lexer": "ipython3",
   "version": "3.5.2"
  }
 },
 "nbformat": 4,
 "nbformat_minor": 2
}
